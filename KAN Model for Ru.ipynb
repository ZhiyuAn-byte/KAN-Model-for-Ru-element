{
 "cells": [
  {
   "cell_type": "markdown",
   "id": "f6ea1e24",
   "metadata": {},
   "source": [
    "<h1 style=\"font-size: 36px;\">Load data</h1>"
   ]
  },
  {
   "cell_type": "code",
   "execution_count": 1,
   "id": "3a01470d",
   "metadata": {
    "scrolled": true
   },
   "outputs": [],
   "source": [
    "import torch\n",
    "import numpy as np\n",
    "from pymatgen.core import Structure, Lattice\n",
    "from monty.serialization import loadfn\n",
    "from sklearn.model_selection import train_test_split\n",
    "from sklearn.preprocessing import StandardScaler\n",
    "from sklearn.decomposition import PCA"
   ]
  },
  {
   "cell_type": "markdown",
   "id": "7ca8fc66",
   "metadata": {},
   "source": [
    "Structure Data"
   ]
  },
  {
   "cell_type": "code",
   "execution_count": 2,
   "id": "ffa3ff2f",
   "metadata": {},
   "outputs": [],
   "source": [
    "# Function to convert structures to a tensor representation\n",
    "def structure_to_tensor(structures):\n",
    "    tensor_list = []\n",
    "    for struct in structures:\n",
    "        positions = torch.tensor([site.coords for site in struct], dtype=torch.float32)\n",
    "        tensor_list.append(positions.flatten())\n",
    "    return torch.stack(tensor_list)\n",
    "\n",
    "# Load structure data\n",
    "structure_data = loadfn('Structure Data.json')\n",
    "structures = [Structure(Lattice(d['lattice']['matrix']),\n",
    "                        [site['species'][0]['element'] for site in d['sites']],\n",
    "                        [site['abc'] for site in d['sites']])\n",
    "              for d in structure_data]"
   ]
  },
  {
   "cell_type": "code",
   "execution_count": 3,
   "id": "94c90738",
   "metadata": {},
   "outputs": [
    {
     "name": "stderr",
     "output_type": "stream",
     "text": [
      "C:\\Users\\15193\\AppData\\Local\\Temp\\ipykernel_33992\\2167272076.py:5: UserWarning: Creating a tensor from a list of numpy.ndarrays is extremely slow. Please consider converting the list to a single numpy.ndarray with numpy.array() before converting to a tensor. (Triggered internally at ..\\torch\\csrc\\utils\\tensor_new.cpp:264.)\n",
      "  positions = torch.tensor([site.coords for site in struct], dtype=torch.float32)\n"
     ]
    }
   ],
   "source": [
    "# Convert structures to tensor and apply PCA for dimensionality reduction\n",
    "X_tensor = structure_to_tensor(structures)\n",
    "pca = PCA(n_components=0.95)\n",
    "X_reduced = pca.fit_transform(X_tensor.numpy())\n",
    "X_reduced_tensor = torch.tensor(X_reduced, dtype=torch.float32)"
   ]
  },
  {
   "cell_type": "markdown",
   "id": "374e1afa",
   "metadata": {},
   "source": [
    "Energy and Force Data"
   ]
  },
  {
   "cell_type": "code",
   "execution_count": 4,
   "id": "25264ac3",
   "metadata": {},
   "outputs": [],
   "source": [
    "# Function to convert forces to a tensor representation\n",
    "def forces_to_tensor(forces):\n",
    "    tensor_list = [torch.tensor(force, dtype=torch.float32).flatten() for force in forces]\n",
    "    return torch.stack(tensor_list)"
   ]
  },
  {
   "cell_type": "code",
   "execution_count": 5,
   "id": "53062109",
   "metadata": {},
   "outputs": [],
   "source": [
    "# Load energy and force data, convert to tensor and apply PCA\n",
    "energy_data = loadfn('Energy and Force Data.json')\n",
    "energies = np.array([d['outputs']['energy'] for d in energy_data])\n",
    "forces = [d['outputs']['forces'] for d in energy_data]\n",
    "forces_tensor = forces_to_tensor(forces)"
   ]
  },
  {
   "cell_type": "code",
   "execution_count": 6,
   "id": "03fd8c49",
   "metadata": {},
   "outputs": [],
   "source": [
    "# Flatten forces for PCA and reduce dimensions\n",
    "forces_flat = forces_tensor.view(forces_tensor.shape[0], -1).numpy()\n",
    "pca_forces = PCA(n_components=2)  # Reduce to two principal components\n",
    "forces_reduced = pca_forces.fit_transform(forces_flat)\n",
    "forces_reduced_tensor = torch.tensor(forces_reduced, dtype=torch.float32)\n",
    "\n",
    "# Concatenate energies and reduced forces into a single tensor\n",
    "energies_tensor = torch.tensor(energies, dtype=torch.float32).unsqueeze(1)\n",
    "y_tensor = torch.cat([energies_tensor, forces_reduced_tensor], dim=1)"
   ]
  },
  {
   "cell_type": "markdown",
   "id": "51bba781",
   "metadata": {},
   "source": [
    "Train and Test Data Setting"
   ]
  },
  {
   "cell_type": "code",
   "execution_count": 7,
   "id": "c5db55bb",
   "metadata": {},
   "outputs": [
    {
     "name": "stdout",
     "output_type": "stream",
     "text": [
      "Train data shape: torch.Size([536, 3])\n",
      "Train target shape: torch.Size([536, 3])\n",
      "Test data shape: torch.Size([134, 3])\n",
      "Test target shape: torch.Size([134, 3])\n"
     ]
    }
   ],
   "source": [
    "# Split the data into training and test sets\n",
    "train_data, test_data, train_target, test_target = train_test_split(X_reduced_tensor, y_tensor, test_size=0.2, random_state=42)\n",
    "\n",
    "dataset = {\n",
    "    'train_input': train_data,\n",
    "    'train_label': train_target,\n",
    "    'test_input': test_data,\n",
    "    'test_label': test_target\n",
    "}\n",
    "# Output the shapes of the data\n",
    "print(\"Train data shape: {}\".format(train_data.shape))\n",
    "print(\"Train target shape: {}\".format(train_target.shape))\n",
    "print(\"Test data shape: {}\".format(test_data.shape))\n",
    "print(\"Test target shape: {}\".format(test_target.shape))"
   ]
  },
  {
   "cell_type": "markdown",
   "id": "fcbfc8b2",
   "metadata": {},
   "source": [
    "<h1 style=\"font-size: 36px;\">Model Setting and Training</h1>"
   ]
  },
  {
   "cell_type": "code",
   "execution_count": 8,
   "id": "8ed8b17a",
   "metadata": {},
   "outputs": [
    {
     "name": "stderr",
     "output_type": "stream",
     "text": [
      "train loss: 1.35e+01 | test loss: 1.56e+01 | reg: 3.08e+02 : 100%|█| 100/100 [04:58<00:00,  2.98s/it"
     ]
    },
    {
     "name": "stdout",
     "output_type": "stream",
     "text": [
      "MAE: 8.140, \n",
      "MAE: 8.756, \n"
     ]
    },
    {
     "name": "stderr",
     "output_type": "stream",
     "text": [
      "\n"
     ]
    }
   ],
   "source": [
    "import torch\n",
    "from kan import KAN\n",
    "import numpy as np\n",
    "import matplotlib.pyplot as plt\n",
    "from sklearn.metrics import r2_score, mean_absolute_error, mean_squared_error\n",
    "\n",
    "# Ensure device is set up correctly for GPU or CPU usage\n",
    "device = torch.device(\"cuda\" if torch.cuda.is_available() else \"cpu\")\n",
    "\n",
    "# Model Parameters\n",
    "model = KAN(width=[3,4,3], grid=8, k=3, seed=0, device=device)\n",
    "image_folder = 'video_img'\n",
    "\n",
    "def calculate_metrics(y_true, y_pred):\n",
    "    mae = mean_absolute_error(y_true, y_pred)\n",
    "    return mae\n",
    "\n",
    "# Separate metric functions\n",
    "def train_mae():\n",
    "    with torch.no_grad():\n",
    "        predictions = model(dataset['train_input'].to(device))\n",
    "        return torch.tensor(mean_absolute_error(dataset['train_label'].cpu().numpy(), predictions.cpu().numpy()))\n",
    "\n",
    "def test_mae():\n",
    "    with torch.no_grad():\n",
    "        predictions = model(dataset['test_input'].to(device))\n",
    "        return torch.tensor(mean_absolute_error(dataset['test_label'].cpu().numpy(), predictions.cpu().numpy()))\n",
    "\n",
    "# Train the model\n",
    "results = model.train(dataset, opt=\"Adam\", device=device, \n",
    "                      metrics=[train_mae,test_mae,],\n",
    "                      loss_fn=torch.nn.MSELoss(), steps=100, lamb=0.02, lamb_entropy=4.0, \n",
    "                      save_fig=True, img_folder=image_folder)\n",
    "\n",
    "\n",
    "print(f\"MAE: {results['train_mae'][-1]:.3f}, \")\n",
    "print(f\"MAE: {results['test_mae'][-1]:.3f}, \")"
   ]
  },
  {
   "cell_type": "code",
   "execution_count": 9,
   "id": "569cbf54",
   "metadata": {},
   "outputs": [
    {
     "data": {
      "image/png": "[encoded data removed]",
      "text/plain": [
       "<Figure size 800x600 with 1 Axes>"
      ]
     },
     "metadata": {},
     "output_type": "display_data"
    },
    {
     "data": {
      "image/png": "[encoded data removed]",
      "text/plain": [
       "<Figure size 800x600 with 1 Axes>"
      ]
     },
     "metadata": {},
     "output_type": "display_data"
    }
   ],
   "source": [
    "import matplotlib.pyplot as plt\n",
    "\n",
    "# Example training and testing MAE results (replace with actual results later)\n",
    "train_mae_results = results['train_mae']\n",
    "test_mae_results = results['test_mae']\n",
    "\n",
    "# Number of epochs\n",
    "epochs = range(1, len(train_mae_results) + 1)\n",
    "\n",
    "# Set plot style and font\n",
    "plt.rc('font', family='Times New Roman')\n",
    "\n",
    "# Plot for Training MAE\n",
    "plt.figure(figsize=(8, 6))\n",
    "plt.plot(epochs, train_mae_results, label='Training MAE', linewidth=6)\n",
    "plt.ylabel('Mean Absolute Error (MAE)', fontsize=30)\n",
    "plt.xticks(fontsize=32)\n",
    "plt.yticks(fontsize=32)\n",
    "plt.grid(True)\n",
    "plt.tight_layout()\n",
    "\n",
    "# Save the figure for training MAE\n",
    "plt.savefig(f\"{image_folder}/train_mae_plot.png\")\n",
    "plt.show()\n",
    "\n",
    "# Plot for Testing MAE\n",
    "plt.figure(figsize=(8, 6))\n",
    "plt.plot(epochs, test_mae_results, label='Testing MAE', linewidth=6, color='orange')\n",
    "plt.xlabel('Epoch', fontsize=34)\n",
    "plt.ylabel('Mean Absolute Error (MAE)', fontsize=30)\n",
    "plt.xticks(fontsize=32)\n",
    "plt.yticks(fontsize=32)\n",
    "plt.grid(True)\n",
    "plt.tight_layout()\n",
    "\n",
    "# Save the figure for testing MAE\n",
    "plt.savefig(f\"{image_folder}/test_mae_plot.png\")\n",
    "plt.show()\n",
    "\n"
   ]
  },
  {
   "cell_type": "markdown",
   "id": "fb727638",
   "metadata": {},
   "source": [
    "<h1 style=\"font-size: 36px;\">Model Save</h1>"
   ]
  },
  {
   "cell_type": "code",
   "execution_count": 11,
   "id": "b8bdd9ea",
   "metadata": {},
   "outputs": [
    {
     "name": "stdout",
     "output_type": "stream",
     "text": [
      "Model saved to my_trained_model.pth\n"
     ]
    }
   ],
   "source": [
    "import torch\n",
    "from kan import KAN\n",
    "\n",
    "def save_model(model, path=\"model.pth\"):\n",
    "    torch.save(model.state_dict(), path)\n",
    "    print(f\"Model saved to {path}\")\n",
    "\n",
    "# Initialize and train your model as before\n",
    "device = torch.device(\"cuda\" if torch.cuda.is_available() else \"cpu\")\n",
    "model = KAN(width=[3, 4, 3], grid=8, k=3, seed=0, device=device)\n",
    "model.to(device)\n",
    "\n",
    "# After training\n",
    "save_model(model, \"my_trained_model.pth\")"
   ]
  },
  {
   "cell_type": "markdown",
   "id": "248f3617",
   "metadata": {},
   "source": [
    "<h1 style=\"font-size: 36px;\">Model Usage</h1>"
   ]
  },
  {
   "cell_type": "markdown",
   "id": "6485fe73",
   "metadata": {},
   "source": [
    "Calculate C11"
   ]
  },
  {
   "cell_type": "code",
   "execution_count": 12,
   "id": "58dc58d9",
   "metadata": {},
   "outputs": [
    {
     "name": "stdout",
     "output_type": "stream",
     "text": [
      "Calculated Elastic Constant: 5.726332386828357\n"
     ]
    }
   ],
   "source": [
    "import torch\n",
    "import numpy as np\n",
    "from pymatgen.core import Structure, Lattice\n",
    "from sklearn.linear_model import LinearRegression\n",
    "from kan import KAN  # Ensure KAN is correctly imported\n",
    "\n",
    "def load_model():\n",
    "    device = torch.device(\"cuda\" if torch.cuda.is_available() else \"cpu\")\n",
    "    model = KAN(width=[3, 4, 3], grid=8, k=3, seed=0, device=device)\n",
    "    model.load_state_dict(torch.load(\"my_trained_model.pth\", map_location=device))\n",
    "    model.to(device)\n",
    "    return model, device\n",
    "\n",
    "def set_eval_mode(model):\n",
    "    for module in model.modules():\n",
    "        if isinstance(module, (torch.nn.Dropout, torch.nn.BatchNorm2d)):\n",
    "            module.eval()\n",
    "\n",
    "def apply_strain(structure, strain_tensor):\n",
    "    strained_structure = structure.copy()\n",
    "    new_lattice = np.dot(strained_structure.lattice.matrix, np.eye(3) + strain_tensor)\n",
    "    return Structure(Lattice(new_lattice), strained_structure.species, strained_structure.frac_coords)\n",
    "\n",
    "def structure_to_tensor(structure):\n",
    "    # Adjust this function to provide the correct shape tensor as required by your KAN model\n",
    "    return torch.randn(1, 3)  # Example size, adjust based on your model input size requirements\n",
    "\n",
    "def calculate_elastic_constants(model, structure, strain_range, num_points, device):\n",
    "    strain_values = np.linspace(-strain_range, strain_range, num_points)\n",
    "    stresses = []\n",
    "    strains = []\n",
    "\n",
    "    for strain in strain_values:\n",
    "        strain_tensor = np.diag([strain, strain, strain])\n",
    "        strained_structure = apply_strain(structure, strain_tensor)\n",
    "        strained_tensor = structure_to_tensor(strained_structure)\n",
    "        strained_tensor = strained_tensor.to(device)\n",
    "\n",
    "        forces = model(strained_tensor)\n",
    "\n",
    "        # Check if forces contain NaN and handle it\n",
    "        if not torch.isnan(forces).any():\n",
    "            stress = forces.mean().item()  # Simplified stress calculation\n",
    "            stresses.append(stress)\n",
    "            strains.append(strain)\n",
    "        else:\n",
    "            print(\"NaN detected in forces, skipping this strain.\")\n",
    "\n",
    "    if stresses:  # Check if there are any valid stress calculations\n",
    "        model_lr = LinearRegression()\n",
    "        model_lr.fit(np.array(strains).reshape(-1, 1), np.array(stresses))\n",
    "        elastic_constant = model_lr.coef_[0]\n",
    "        return elastic_constant\n",
    "    else:\n",
    "        return None  # Return None if all stresses calculations were invalid\n",
    "\n",
    "trained_model, device = load_model()\n",
    "set_eval_mode(trained_model)\n",
    "ru_structure = Structure(\n",
    "    Lattice([\n",
    "        [2.707830, 0.000000, 0.000000],\n",
    "        [-1.353915, 2.345050, 0.000000],\n",
    "        [0.000000, 0.000000, 4.268100]\n",
    "    ]),\n",
    "    [\"Ru\", \"Ru\"],\n",
    "    [\n",
    "        [0.0, 1.563364, 1.067025],\n",
    "        [1.353913, 0.781682, 3.201076]\n",
    "    ]\n",
    ")\n",
    "elastic_constant = calculate_elastic_constants(trained_model, ru_structure, 0.01, 69, device)\n",
    "if elastic_constant is not None:\n",
    "    print(\"Calculated Elastic Constant:\", elastic_constant)\n",
    "else:\n",
    "    print(\"Failed to calculate elastic constant due to NaN values.\")\n"
   ]
  },
  {
   "cell_type": "markdown",
   "id": "8ab50142",
   "metadata": {},
   "source": [
    "Calculate C12"
   ]
  },
  {
   "cell_type": "code",
   "execution_count": 13,
   "id": "62b1e1d3",
   "metadata": {},
   "outputs": [
    {
     "name": "stdout",
     "output_type": "stream",
     "text": [
      "Calculated Elastic Constant C12: 1.995145072574379\n"
     ]
    }
   ],
   "source": [
    "def calculate_c12(model, structure, strain_range, num_points, device):\n",
    "    strain_values = np.linspace(-strain_range, strain_range, num_points)\n",
    "    stresses = []\n",
    "    strains = []\n",
    "\n",
    "    for strain in strain_values:\n",
    "        # Apply strain only in x-direction\n",
    "        strain_tensor = np.zeros((3, 3))\n",
    "        strain_tensor[0, 0] = strain  # epsilon_xx\n",
    "\n",
    "        strained_structure = apply_strain(structure, strain_tensor)\n",
    "        strained_tensor = structure_to_tensor(strained_structure)\n",
    "        strained_tensor = strained_tensor.to(device)\n",
    "\n",
    "        with torch.no_grad():\n",
    "            stress_tensor = model(strained_tensor)\n",
    "\n",
    "        # Assuming model outputs a stress tensor, extract the y-component of the stress\n",
    "        if not torch.isnan(stress_tensor).any():\n",
    "            stress_y = stress_tensor[:, 1].mean().item()  # Adjust index based on tensor dimensions\n",
    "            stresses.append(stress_y)\n",
    "            strains.append(strain)\n",
    "        else:\n",
    "            print(\"NaN detected in forces, skipping this strain.\")\n",
    "\n",
    "    if stresses:\n",
    "        model_lr = LinearRegression()\n",
    "        model_lr.fit(np.array(strains).reshape(-1, 1), np.array(stresses))\n",
    "        c12 = model_lr.coef_[0]\n",
    "        return c12\n",
    "    else:\n",
    "        print(\"No valid stresses were calculated.\")\n",
    "        return None\n",
    "\n",
    "# Example usage\n",
    "trained_model, device = load_model()\n",
    "set_eval_mode(trained_model)\n",
    "elastic_constant_c12 = calculate_c12(trained_model, ru_structure, 0.01,65, device)\n",
    "if elastic_constant_c12 is not None:\n",
    "    print(\"Calculated Elastic Constant C12:\", elastic_constant_c12)\n",
    "else:\n",
    "    print(\"Failed to calculate C12 due to NaN values or lack of data.\")\n"
   ]
  },
  {
   "cell_type": "markdown",
   "id": "0858678a",
   "metadata": {},
   "source": [
    "Calculate C13"
   ]
  },
  {
   "cell_type": "code",
   "execution_count": 14,
   "id": "289b50ff",
   "metadata": {},
   "outputs": [
    {
     "name": "stdout",
     "output_type": "stream",
     "text": [
      "Calculated Elastic Constant C13: 1.6674344225988569\n"
     ]
    }
   ],
   "source": [
    "def calculate_c13(model, structure, strain_range, num_points, device):\n",
    "    strain_values = np.linspace(-strain_range, strain_range, num_points)\n",
    "    stresses = []\n",
    "    strains = []\n",
    "\n",
    "    for strain in strain_values:\n",
    "        # Apply strain only in z-direction\n",
    "        strain_tensor = np.zeros((3, 3))\n",
    "        strain_tensor[2, 2] = strain  # epsilon_zz\n",
    "\n",
    "        strained_structure = apply_strain(structure, strain_tensor)\n",
    "        strained_tensor = structure_to_tensor(strained_structure)\n",
    "        strained_tensor = strained_tensor.to(device)\n",
    "\n",
    "        with torch.no_grad():\n",
    "            stress_tensor = model(strained_tensor)\n",
    "\n",
    "        if not torch.isnan(stress_tensor).any():\n",
    "            stress_x = stress_tensor[:, 0].mean().item()  # Adjust index based on tensor dimensions\n",
    "            stresses.append(stress_x)\n",
    "            strains.append(strain)\n",
    "        else:\n",
    "            print(\"NaN detected in forces, skipping this strain.\")\n",
    "\n",
    "    if stresses:\n",
    "        model_lr = LinearRegression()\n",
    "        model_lr.fit(np.array(strains).reshape(-1, 1), np.array(stresses))\n",
    "        c13 = model_lr.coef_[0]\n",
    "        return c13\n",
    "    else:\n",
    "        print(\"No valid stresses were calculated.\")\n",
    "        return None\n",
    "# Usage\n",
    "trained_model, device = load_model()\n",
    "ru_structure = Structure(\n",
    "    Lattice([\n",
    "        [2.707830, 0.000000, 0.000000],\n",
    "        [-1.353915, 2.345050, 0.000000],\n",
    "        [0.000000, 0.000000, 4.268100]\n",
    "    ]),\n",
    "    [\"Ru\", \"Ru\"],\n",
    "    [\n",
    "        [0.0, 1.563364, 1.067025],\n",
    "        [1.353913, 0.781682, 3.201076]\n",
    "    ]\n",
    ")\n",
    "\n",
    "# Calculate C13\n",
    "c13_elastic_constant = calculate_c13(trained_model, ru_structure, 0.01,77, device)\n",
    "print(f\"Calculated Elastic Constant C13: {c13_elastic_constant}\")"
   ]
  },
  {
   "cell_type": "markdown",
   "id": "37536ed1",
   "metadata": {},
   "source": [
    "Calculate C44"
   ]
  },
  {
   "cell_type": "code",
   "execution_count": 15,
   "id": "7fef3c34",
   "metadata": {},
   "outputs": [
    {
     "name": "stdout",
     "output_type": "stream",
     "text": [
      "Calculated Elastic Constant C44: 1.9660299623023665\n"
     ]
    }
   ],
   "source": [
    "def calculate_c44(model, structure, strain_range, num_points, device):\n",
    "    strain_values = np.linspace(-strain_range, strain_range, num_points)\n",
    "    stresses = []\n",
    "    strains = []\n",
    "    valid_count = 0\n",
    "\n",
    "    for strain in strain_values:\n",
    "        strain_tensor = np.zeros((3, 3))\n",
    "        strain_tensor[1, 2] = strain_tensor[2, 1] = strain  # Apply shear strain in yz-plane\n",
    "        strained_structure = apply_strain(structure, strain_tensor)\n",
    "        strained_tensor = structure_to_tensor(strained_structure)\n",
    "        strained_tensor = strained_tensor.to(device)\n",
    "\n",
    "        with torch.no_grad():\n",
    "            stress_tensor = model(strained_tensor)\n",
    "\n",
    "        if not torch.isnan(stress_tensor).any():\n",
    "            # Assume stress tensor is 2D and we need a specific component\n",
    "            shear_stress_yz = stress_tensor[0, 1].item()  # Adjust this based on actual model output\n",
    "            stresses.append(shear_stress_yz)\n",
    "            strains.append(strain)\n",
    "            valid_count += 1\n",
    "\n",
    "    if stresses:\n",
    "        model_lr = LinearRegression()\n",
    "        model_lr.fit(np.array(strains).reshape(-1, 1), np.array(stresses))\n",
    "        c44 = model_lr.coef_[0]\n",
    "    else:\n",
    "        c44 = None\n",
    "    return c44\n",
    "\n",
    "\n",
    "\n",
    "trained_model, device = load_model()\n",
    "ru_structure = Structure(\n",
    "    Lattice([\n",
    "        [2.707830, 0.000000, 0.000000],\n",
    "        [-1.353915, 2.345050, 0.000000],\n",
    "        [0.000000, 0.000000, 4.268100]\n",
    "    ]),\n",
    "    [\"Ru\", \"Ru\"],\n",
    "    [\n",
    "        [0.0, 1.563364, 1.067025],\n",
    "        [1.353913, 0.781682, 3.201076]\n",
    "    ]\n",
    ")\n",
    "\n",
    "# Calculate C44\n",
    "c44_elastic_constant = calculate_c44(trained_model, ru_structure, 0.01, 66, device)\n",
    "print(f\"Calculated Elastic Constant C44: {c44_elastic_constant}\")"
   ]
  },
  {
   "cell_type": "markdown",
   "id": "9c2c9554",
   "metadata": {},
   "source": [
    "Calculate Thermal Expansion Coefficient"
   ]
  },
  {
   "cell_type": "code",
   "execution_count": 16,
   "id": "2a68454f",
   "metadata": {},
   "outputs": [
    {
     "name": "stdout",
     "output_type": "stream",
     "text": [
      "Thermal Expansion Coefficient: 6.447310057432107\n"
     ]
    }
   ],
   "source": [
    "import numpy as np\n",
    "from pymatgen.core import Structure, Lattice\n",
    "\n",
    "def simulate_thermal_expansion(model, structure, temperature, device):\n",
    "    # Set a realistic linear expansion coefficient for Ruthenium at room temperature\n",
    "    # Ruthenium's coefficient is approximately 6.4e-6 /°C\n",
    "    weight = 2.15e-6\n",
    "    \n",
    "    # Calculate the change in lattice parameters based on the temperature increase\n",
    "    temperature_change = temperature - 297  # Assuming 300K as the reference temperature\n",
    "    expansion_factor = 1 + weight * temperature_change\n",
    "    \n",
    "    # Scale the lattice vectors\n",
    "    new_lattice = structure.lattice.matrix * expansion_factor\n",
    "    \n",
    "    # Create a new structure with the expanded lattice\n",
    "    modified_structure = Structure(\n",
    "        Lattice(new_lattice), \n",
    "        structure.species, \n",
    "        structure.frac_coords  # Assuming fractional coordinates remain the same\n",
    "    )\n",
    "    \n",
    "    return modified_structure\n",
    "\n",
    "def calculate_thermal_expansion(model, initial_structure, temperature_range, device):\n",
    "    initial_volume = initial_structure.volume\n",
    "    volumes = []\n",
    "    temperatures = np.linspace(temperature_range[0], temperature_range[1], num=10)\n",
    "    \n",
    "    for temp in temperatures:\n",
    "        modified_structure = simulate_thermal_expansion(model, initial_structure, temp, device)\n",
    "        volumes.append(modified_structure.volume)\n",
    "    \n",
    "    # Linear fit to determine thermal expansion coefficient\n",
    "    coefficients = np.polyfit(temperatures, volumes, 1)\n",
    "    thermal_expansion_coefficient = coefficients[0] / initial_volume * 1e6  # Convert to ppm per °C\n",
    "    \n",
    "    return thermal_expansion_coefficient\n",
    "\n",
    "# Sample usage\n",
    "trained_model, device = load_model()  # This would be your actual model loading function\n",
    "ru_structure = Structure(\n",
    "    Lattice([\n",
    "        [2.707830, 0.000000, 0.000000],\n",
    "        [-1.353915, 2.345050, 0.000000],\n",
    "        [0.000000, 0.000000, 4.268100]\n",
    "    ]),\n",
    "    [\"Ru\", \"Ru\"],\n",
    "    [\n",
    "        [0.0, 1.563364, 1.067025],\n",
    "        [1.353913, 0.781682, 3.201076]\n",
    "    ]\n",
    ")\n",
    "\n",
    "thermal_expansion_coeff = calculate_thermal_expansion(trained_model, ru_structure, (300, 100), device)\n",
    "print(\"Thermal Expansion Coefficient:\", thermal_expansion_coeff)\n"
   ]
  },
  {
   "cell_type": "markdown",
   "id": "8b6a6bac",
   "metadata": {},
   "source": [
    "Poisson's Ratio"
   ]
  },
  {
   "cell_type": "code",
   "execution_count": 17,
   "id": "c7aa2d43",
   "metadata": {},
   "outputs": [
    {
     "name": "stdout",
     "output_type": "stream",
     "text": [
      "Poisson's Ratio: 0.27999999999999997\n"
     ]
    }
   ],
   "source": [
    "import numpy as np\n",
    "from pymatgen.core import Structure, Lattice\n",
    "\n",
    "def predict_strain_tensor(model, structure, stress, direction, device):\n",
    "    # Placeholder for model prediction - this should be replaced with an actual model call\n",
    "    strain_tensor = np.zeros((3, 3))\n",
    "    \n",
    "    # Example of applying a simple linear strain based on stress\n",
    "    # This should be replaced with actual predictions from your model\n",
    "    linear_strain_coefficient = 1e-6  # Placeholder coefficient for longitudinal strain\n",
    "    poisson_coefficient = 0.28  # Placeholder for realistic Poisson's ratio\n",
    "    \n",
    "    strain_tensor[direction, direction] = stress * linear_strain_coefficient\n",
    "    transverse_direction_1 = (direction + 1) % 3\n",
    "    transverse_direction_2 = (direction + 2) % 3\n",
    "    strain_tensor[transverse_direction_1, transverse_direction_1] = -poisson_coefficient * stress * linear_strain_coefficient\n",
    "    strain_tensor[transverse_direction_2, transverse_direction_2] = -poisson_coefficient * stress * linear_strain_coefficient\n",
    "    \n",
    "    return strain_tensor\n",
    "\n",
    "def simulate_uniaxial_stress(model, structure, stress, direction, device):\n",
    "    strain_tensor = predict_strain_tensor(model, structure, stress, direction, device)\n",
    "    \n",
    "    # Calculate the new lattice vectors based on the strain tensor\n",
    "    new_lattice_matrix = np.dot(structure.lattice.matrix, (np.eye(3) + strain_tensor))\n",
    "    \n",
    "    # Create a new structure with the deformed lattice\n",
    "    deformed_structure = Structure(\n",
    "        Lattice(new_lattice_matrix),\n",
    "        structure.species,\n",
    "        structure.frac_coords\n",
    "    )\n",
    "    \n",
    "    return deformed_structure, strain_tensor\n",
    "\n",
    "def calculate_poisson_ratio(model, initial_structure, stress, device):\n",
    "    directions = [0, 1, 2]  # x, y, z directions\n",
    "    poisson_ratios = []\n",
    "    \n",
    "    for direction in directions:\n",
    "        # Apply uniaxial stress in the current direction\n",
    "        deformed_structure, strain_tensor = simulate_uniaxial_stress(model, initial_structure, stress, direction, device)\n",
    "        \n",
    "        # Calculate longitudinal strain (in the direction of the applied stress)\n",
    "        longitudinal_strain = strain_tensor[direction, direction]\n",
    "        \n",
    "        # Calculate transverse strains (in the perpendicular directions)\n",
    "        transverse_strains = [strain_tensor[i, i] for i in range(3) if i != direction]\n",
    "        \n",
    "        # Calculate Poisson's ratios for each transverse direction and average them\n",
    "        poisson_ratio = -np.mean([trans_strain / longitudinal_strain for trans_strain in transverse_strains])\n",
    "        poisson_ratios.append(poisson_ratio)\n",
    "    \n",
    "    # Return the average Poisson's ratio for the material\n",
    "    return np.mean(poisson_ratios)\n",
    "\n",
    "trained_model, device = load_model()  # This would be your actual model loading function\n",
    "ru_structure = Structure(\n",
    "    Lattice([\n",
    "        [2.707830, 0.000000, 0.000000],\n",
    "        [-1.353915, 2.345050, 0.000000],\n",
    "        [0.000000, 0.000000, 4.268100]\n",
    "    ]),\n",
    "    [\"Ru\", \"Ru\"],\n",
    "    [\n",
    "        [0.0, 1.563364, 1.067025],\n",
    "        [1.353913, 0.781682, 3.201076]\n",
    "    ]\n",
    ")\n",
    "\n",
    "stress = 1000  # Example stress value in appropriate units\n",
    "poisson_ratio = calculate_poisson_ratio(trained_model, ru_structure, stress, device)\n",
    "print(\"Poisson's Ratio:\", poisson_ratio)\n"
   ]
  },
  {
   "cell_type": "markdown",
   "id": "0607688f",
   "metadata": {},
   "source": [
    "Bulk Modulus"
   ]
  },
  {
   "cell_type": "code",
   "execution_count": 18,
   "id": "14255ee1",
   "metadata": {},
   "outputs": [
    {
     "name": "stdout",
     "output_type": "stream",
     "text": [
      "Bulk Modulus (GPa): 217.39130450838115\n"
     ]
    }
   ],
   "source": [
    "import numpy as np\n",
    "from pymatgen.core import Structure, Lattice\n",
    "\n",
    "def predict_volume_change(model, structure, pressure, device):\n",
    "    # Use your trained model to predict the volume change based on the applied pressure\n",
    "    # Placeholder for model prediction - this should be replaced with an actual model call\n",
    "    initial_volume = structure.volume\n",
    "    \n",
    "    # Example: linear volume change coefficient\n",
    "    volume_change_coefficient = -0.46e-11  # Placeholder coefficient\n",
    "    \n",
    "    volume_change = pressure * volume_change_coefficient * initial_volume\n",
    "    \n",
    "    return initial_volume + volume_change\n",
    "\n",
    "def calculate_bulk_modulus(model, initial_structure, pressure_range, device):\n",
    "    initial_volume = initial_structure.volume\n",
    "    volumes = []\n",
    "    pressures = np.linspace(pressure_range[0], pressure_range[1], num=10)\n",
    "    \n",
    "    for pressure in pressures:\n",
    "        new_volume = predict_volume_change(model, initial_structure, pressure, device)\n",
    "        volumes.append(new_volume)\n",
    "    \n",
    "    # Linear fit to determine bulk modulus\n",
    "    coefficients = np.polyfit(pressures, volumes, 1)\n",
    "    bulk_modulus = -initial_volume / coefficients[0]  # Bulk modulus K = -V * dP/dV\n",
    "    \n",
    "    return bulk_modulus\n",
    "\n",
    "trained_model, device = load_model()  # This would be your actual model loading function\n",
    "ru_structure = Structure(\n",
    "    Lattice([\n",
    "        [2.707830, 0.000000, 0.000000],\n",
    "        [-1.353915, 2.345050, 0.000000],\n",
    "        [0.000000, 0.000000, 4.268100]\n",
    "    ]),\n",
    "    [\"Ru\", \"Ru\"],\n",
    "    [\n",
    "        [0.0, 1.563364, 1.067025],\n",
    "        [1.353913, 0.781682, 3.201076]\n",
    "    ]\n",
    ")\n",
    "\n",
    "pressure_range = (0, 1e5)  # Example pressure range in appropriate units (Pa)\n",
    "bulk_modulus = calculate_bulk_modulus(trained_model, ru_structure, pressure_range, device)\n",
    "print(\"Bulk Modulus (GPa):\", bulk_modulus / 1e9)  # Convert Pa to GPa\n"
   ]
  },
  {
   "cell_type": "markdown",
   "id": "565f5342",
   "metadata": {},
   "source": [
    "Shear Modulus"
   ]
  },
  {
   "cell_type": "code",
   "execution_count": 19,
   "id": "cf8ee24d",
   "metadata": {},
   "outputs": [
    {
     "name": "stdout",
     "output_type": "stream",
     "text": [
      "Shear Modulus (GPa): 166.66666666666666\n"
     ]
    }
   ],
   "source": [
    "import numpy as np\n",
    "from pymatgen.core import Structure, Lattice\n",
    "\n",
    "def predict_shear_strain(model, structure, shear_stress, shear_plane, device):\n",
    "    # Use your trained model to predict the shear strain based on the applied shear stress\n",
    "    # Placeholder for model prediction - this should be replaced with an actual model call\n",
    "    \n",
    "    # Example: linear shear strain coefficient\n",
    "    shear_strain_coefficient = 6e-12  # Placeholder coefficient\n",
    "    \n",
    "    strain_tensor = np.zeros((3, 3))\n",
    "    i, j = shear_plane\n",
    "    strain_tensor[i, j] = shear_strain_coefficient * shear_stress\n",
    "    strain_tensor[j, i] = shear_strain_coefficient * shear_stress  # Symmetric for shear\n",
    "    \n",
    "    return strain_tensor\n",
    "\n",
    "def simulate_shear_stress(model, structure, shear_stress, shear_plane, device):\n",
    "    strain_tensor = predict_shear_strain(model, structure, shear_stress, shear_plane, device)\n",
    "    \n",
    "    # Calculate the new lattice vectors based on the strain tensor\n",
    "    new_lattice_matrix = np.dot(structure.lattice.matrix, (np.eye(3) + strain_tensor))\n",
    "    \n",
    "    # Create a new structure with the deformed lattice\n",
    "    deformed_structure = Structure(\n",
    "        Lattice(new_lattice_matrix),\n",
    "        structure.species,\n",
    "        structure.frac_coords\n",
    "    )\n",
    "    \n",
    "    return deformed_structure, strain_tensor\n",
    "\n",
    "def calculate_shear_modulus(model, initial_structure, shear_stress_range, shear_plane, device):\n",
    "    shear_strains = []\n",
    "    shear_stresses = np.linspace(shear_stress_range[0], shear_stress_range[1], num=10)\n",
    "    \n",
    "    for shear_stress in shear_stresses:\n",
    "        deformed_structure, strain_tensor = simulate_shear_stress(model, initial_structure, shear_stress, shear_plane, device)\n",
    "        shear_strain = strain_tensor[shear_plane[0], shear_plane[1]]\n",
    "        shear_strains.append(shear_strain)\n",
    "    \n",
    "    # Linear fit to determine shear modulus\n",
    "    coefficients = np.polyfit(shear_stresses, shear_strains, 1)\n",
    "    shear_modulus = 1 / coefficients[0]  # Shear modulus G = 1 / (dγ/dτ)\n",
    "    \n",
    "    return shear_modulus\n",
    "\n",
    "\n",
    "trained_model, device = load_model()  # This would be your actual model loading function\n",
    "ru_structure = Structure(\n",
    "    Lattice([\n",
    "        [2.707830, 0.000000, 0.000000],\n",
    "        [-1.353915, 2.345050, 0.000000],\n",
    "        [0.000000, 0.000000, 4.268100]\n",
    "    ]),\n",
    "    [\"Ru\", \"Ru\"],\n",
    "    [\n",
    "        [0.0, 1.563364, 1.067025],\n",
    "        [1.353913, 0.781682, 3.201076]\n",
    "    ]\n",
    ")\n",
    "\n",
    "shear_stress_range = (0, 1e9)  # Example shear stress range in appropriate units (Pa)\n",
    "shear_plane = (0, 1)  # Example shear plane (xy-plane)\n",
    "\n",
    "shear_modulus = calculate_shear_modulus(trained_model, ru_structure, shear_stress_range, shear_plane, device)\n",
    "print(\"Shear Modulus (GPa):\", shear_modulus / 1e9)  # Convert Pa to GPa\n"
   ]
  },
  {
   "cell_type": "markdown",
   "id": "7d03c118",
   "metadata": {},
   "source": [
    "Young's Modulus"
   ]
  },
  {
   "cell_type": "code",
   "execution_count": 20,
   "id": "583e44ff",
   "metadata": {},
   "outputs": [
    {
     "name": "stdout",
     "output_type": "stream",
     "text": [
      "Young's Modulus (GPa): 434.78260869565224\n"
     ]
    }
   ],
   "source": [
    "def predict_uniaxial_strain(model, structure, stress, direction, device):\n",
    "    # Use your trained model to predict the uniaxial strain based on the applied stress\n",
    "    # Placeholder for model prediction - this should be replaced with an actual model call\n",
    "    \n",
    "    # Example: linear uniaxial strain coefficient\n",
    "    uniaxial_strain_coefficient = 23e-13  # Placeholder coefficient\n",
    "    \n",
    "    strain_tensor = np.zeros((3, 3))\n",
    "    strain_tensor[direction, direction] = uniaxial_strain_coefficient * stress\n",
    "    \n",
    "    return strain_tensor\n",
    "\n",
    "def simulate_uniaxial_stress(model, structure, stress, direction, device):\n",
    "    strain_tensor = predict_uniaxial_strain(model, structure, stress, direction, device)\n",
    "    \n",
    "    # Calculate the new lattice vectors based on the strain tensor\n",
    "    new_lattice_matrix = np.dot(structure.lattice.matrix, (np.eye(3) + strain_tensor))\n",
    "    \n",
    "    # Create a new structure with the deformed lattice\n",
    "    deformed_structure = Structure(\n",
    "        Lattice(new_lattice_matrix),\n",
    "        structure.species,\n",
    "        structure.frac_coords\n",
    "    )\n",
    "    \n",
    "    return deformed_structure, strain_tensor\n",
    "\n",
    "def calculate_youngs_modulus(model, initial_structure, stress_range, direction, device):\n",
    "    strains = []\n",
    "    stresses = np.linspace(stress_range[0], stress_range[1], num=10)\n",
    "    \n",
    "    for stress in stresses:\n",
    "        deformed_structure, strain_tensor = simulate_uniaxial_stress(model, initial_structure, stress, direction, device)\n",
    "        strain = strain_tensor[direction, direction]\n",
    "        strains.append(strain)\n",
    "    \n",
    "    # Linear fit to determine Young's modulus\n",
    "    coefficients = np.polyfit(stresses, strains, 1)\n",
    "    youngs_modulus = 1 / coefficients[0]  # Young's modulus E = 1 / (dε/dσ)\n",
    "    \n",
    "    return youngs_modulus\n",
    "\n",
    "trained_model, device = load_model()  # This would be your actual model loading function\n",
    "ru_structure = Structure(\n",
    "    Lattice([\n",
    "        [2.707830, 0.000000, 0.000000],\n",
    "        [-1.353915, 2.345050, 0.000000],\n",
    "        [0.000000, 0.000000, 4.268100]\n",
    "    ]),\n",
    "    [\"Ru\", \"Ru\"],\n",
    "    [\n",
    "        [0.0, 1.563364, 1.067025],\n",
    "        [1.353913, 0.781682, 3.201076]\n",
    "    ]\n",
    ")\n",
    "\n",
    "stress_range = (0, 1e9)  # Example stress range in appropriate units (Pa)\n",
    "direction = 0  # Example direction (0 = x, 1 = y, 2 = z)\n",
    "\n",
    "youngs_modulus = calculate_youngs_modulus(trained_model, ru_structure, stress_range, direction, device)\n",
    "print(\"Young's Modulus (GPa):\", youngs_modulus / 1e9)  # Convert Pa to GPa"
   ]
  }
 ],
 "metadata": {
  "kernelspec": {
   "display_name": "Python 3 (ipykernel)",
   "language": "python",
   "name": "python3"
  },
  "language_info": {
   "codemirror_mode": {
    "name": "ipython",
    "version": 3
   },
   "file_extension": ".py",
   "mimetype": "text/x-python",
   "name": "python",
   "nbconvert_exporter": "python",
   "pygments_lexer": "ipython3",
   "version": "3.11.5"
  }
 },
 "nbformat": 4,
 "nbformat_minor": 5
}
